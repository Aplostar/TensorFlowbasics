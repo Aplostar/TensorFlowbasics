{
 "cells": [
  {
   "cell_type": "code",
   "execution_count": 2,
   "metadata": {
    "colab": {},
    "colab_type": "code",
    "id": "LW-BaOQVtRPC"
   },
   "outputs": [],
   "source": [
    "import tensorflow as tf\n",
    "import numpy as np\n",
    "\n",
    "#TensorFlow constant\n",
    "const = tf.constant(2.0, name = \"constant\")\n",
    "\n",
    "# TensorFlow variables\n",
    "b = tf.placeholder(tf.float32,[None,1],name = 'b')\n",
    "c = tf.Variable(1.0,name = 'c')"
   ]
  },
  {
   "cell_type": "code",
   "execution_count": 3,
   "metadata": {
    "colab": {},
    "colab_type": "code",
    "id": "uSOGDChTuVaD"
   },
   "outputs": [],
   "source": [
    "# Creating operations\n",
    "d = tf.add(b,c,name = 'd')\n",
    "e = tf.add(c,const,name = 'e')\n",
    "a = tf.multiply(d,e,name = 'a')\n"
   ]
  },
  {
   "cell_type": "code",
   "execution_count": 4,
   "metadata": {
    "colab": {
     "base_uri": "https://localhost:8080/",
     "height": 191
    },
    "colab_type": "code",
    "executionInfo": {
     "elapsed": 974,
     "status": "ok",
     "timestamp": 1562749406621,
     "user": {
      "displayName": "Arpit Pachauri",
      "photoUrl": "",
      "userId": "02569292869830224247"
     },
     "user_tz": -330
    },
    "id": "8hlwM5eNvOZz",
    "outputId": "15147beb-058a-49f4-8add-c04df0aacc71"
   },
   "outputs": [
    {
     "name": "stdout",
     "output_type": "stream",
     "text": [
      "Variable a is [[ 3.]\n",
      " [ 6.]\n",
      " [ 9.]\n",
      " [12.]\n",
      " [15.]\n",
      " [18.]\n",
      " [21.]\n",
      " [24.]\n",
      " [27.]\n",
      " [30.]]\n"
     ]
    }
   ],
   "source": [
    "# TensorFlow placeholders\n",
    "init_op = tf.global_variables_initializer()\n",
    "\n",
    "with tf.Session() as sess:\n",
    "  sess.run(init_op)\n",
    "  b_input = np.arange(0,10,dtype = np.float32)[:,np.newaxis]\n",
    "  a_out = sess.run(a,feed_dict = {b:b_input})\n",
    "  print(\"Variable a is {}\".format(a_out))"
   ]
  },
  {
   "cell_type": "code",
   "execution_count": null,
   "metadata": {
    "colab": {
     "base_uri": "https://localhost:8080/",
     "height": 87
    },
    "colab_type": "code",
    "executionInfo": {
     "elapsed": 1243,
     "status": "ok",
     "timestamp": 1562749408463,
     "user": {
      "displayName": "Arpit Pachauri",
      "photoUrl": "",
      "userId": "02569292869830224247"
     },
     "user_tz": -330
    },
    "id": "6IkUdPHXyVKP",
    "outputId": "4ee8d474-407e-4720-8803-1cfe91afa369"
   },
   "outputs": [],
   "source": [
    "  from tensorflow.examples.tutorials.mnist import input_data\n",
    "  mnist = input_data.read_data_sets(\"MNIST_data/\",one_hot = True)"
   ]
  },
  {
   "cell_type": "code",
   "execution_count": 0,
   "metadata": {
    "colab": {},
    "colab_type": "code",
    "id": "oFyf236Rxzkg"
   },
   "outputs": [],
   "source": [
    "learning_rate = 0.5\n",
    "epochs = 10\n",
    "batch_size = 100\n",
    "\n",
    "x = tf.placeholder(tf.float32,[None,784])\n",
    "y = tf.placeholder(tf.float32,[None,10])"
   ]
  },
  {
   "cell_type": "code",
   "execution_count": 0,
   "metadata": {
    "colab": {},
    "colab_type": "code",
    "id": "wP6WktSXC7z1"
   },
   "outputs": [],
   "source": [
    "W1 = tf.Variable(tf.random_normal([784,300],stddev = 0.03),name = \"W1\")\n",
    "b1 = tf.Variable(tf.random_normal([300]),name = \"b1\")\n",
    "\n",
    "W2 = tf.Variable(tf.random_normal([300,10],stddev = 0.03),name = \"W2\")\n",
    "b2 = tf.Variable(tf.random_normal([10]),name = \"b2\")"
   ]
  },
  {
   "cell_type": "code",
   "execution_count": 0,
   "metadata": {
    "colab": {},
    "colab_type": "code",
    "id": "gLZsyLXSDGUe"
   },
   "outputs": [],
   "source": [
    " hidden_out = tf.add(tf.matmul(x,W1),b1)\n",
    " hidden_out = tf.nn.relu(hidden_out)"
   ]
  },
  {
   "cell_type": "code",
   "execution_count": 0,
   "metadata": {
    "colab": {},
    "colab_type": "code",
    "id": "3pQKAzO9EEoW"
   },
   "outputs": [],
   "source": [
    "y_ = tf.nn.softmax(tf.add(tf.matmul(hidden_out,W2),b2))\n",
    "y_clipped = tf.clip_by_value(y_,1e-10,0.9999999)\n",
    "cross_entropy = -tf.reduce_mean(tf.reduce_sum(y*tf.log(y_clipped)\n",
    "                                        +(1-y) * tf.log(1-y_clipped),axis = 1))"
   ]
  },
  {
   "cell_type": "code",
   "execution_count": 0,
   "metadata": {
    "colab": {},
    "colab_type": "code",
    "id": "s8VELFPAFZBP"
   },
   "outputs": [],
   "source": [
    "optimizer = tf.train.GradientDescentOptimizer(learning_rate = learning_rate).minimize(cross_entropy)"
   ]
  },
  {
   "cell_type": "code",
   "execution_count": 0,
   "metadata": {
    "colab": {},
    "colab_type": "code",
    "id": "S8mumdw8Fxat"
   },
   "outputs": [],
   "source": [
    "init_op = tf.global_variables_initializer()"
   ]
  },
  {
   "cell_type": "code",
   "execution_count": 0,
   "metadata": {
    "colab": {},
    "colab_type": "code",
    "id": "ups98GPdGFDd"
   },
   "outputs": [],
   "source": [
    "correct_prediction = tf.equal(tf.argmax(y,1),tf.argmax(y_,1))\n",
    "accuracy = tf.reduce_mean(tf.cast(correct_prediction,tf.float32))"
   ]
  },
  {
   "cell_type": "code",
   "execution_count": 97,
   "metadata": {
    "colab": {
     "base_uri": "https://localhost:8080/",
     "height": 225
    },
    "colab_type": "code",
    "executionInfo": {
     "elapsed": 21874,
     "status": "ok",
     "timestamp": 1562749490355,
     "user": {
      "displayName": "Arpit Pachauri",
      "photoUrl": "",
      "userId": "02569292869830224247"
     },
     "user_tz": -330
    },
    "id": "e_z1UtTGGU69",
    "outputId": "7905d4ff-78d3-4dc9-ee18-b4c26dcc08dd"
   },
   "outputs": [
    {
     "name": "stdout",
     "output_type": "stream",
     "text": [
      "550\n",
      "Epoch: 1 cost =  0.610\n",
      "Epoch: 2 cost =  0.225\n",
      "Epoch: 3 cost =  0.169\n",
      "Epoch: 4 cost =  0.133\n",
      "Epoch: 5 cost =  0.112\n",
      "Epoch: 6 cost =  0.092\n",
      "Epoch: 7 cost =  0.076\n",
      "Epoch: 8 cost =  0.063\n",
      "Epoch: 9 cost =  0.055\n",
      "Epoch: 10 cost =  0.046\n",
      "0.9736\n"
     ]
    }
   ],
   "source": [
    "# Setting up training\n",
    "with tf.Session() as sess:\n",
    "  sess.run(init_op)\n",
    "  total_batch = int(len(mnist.train.labels)/batch_size)\n",
    "  print(total_batch)\n",
    "  for epoch in range(epochs):\n",
    "    avg_cost = 0\n",
    "    for i in range(total_batch):\n",
    "      batch_x, batch_y = mnist.train.next_batch(batch_size=batch_size)\n",
    "      _, c = sess.run([optimizer, cross_entropy], \n",
    "                         feed_dict={x: batch_x, y: batch_y})\n",
    "      avg_cost += c / total_batch\n",
    "    print(\"Epoch:\",(epoch+1),\"cost = \",\"{:.3f}\".format(avg_cost))\n",
    "  \n",
    "  print(sess.run(accuracy,feed_dict = {x:mnist.test.images,y:mnist.test.labels}))"
   ]
  },
  {
   "cell_type": "code",
   "execution_count": 0,
   "metadata": {
    "colab": {},
    "colab_type": "code",
    "id": "MtbASXLxHJOc"
   },
   "outputs": [],
   "source": []
  }
 ],
 "metadata": {
  "colab": {
   "collapsed_sections": [],
   "name": "TFbasics.ipynb",
   "provenance": [],
   "version": "0.3.2"
  },
  "kernelspec": {
   "display_name": "Python 3",
   "language": "python",
   "name": "python3"
  },
  "language_info": {
   "codemirror_mode": {
    "name": "ipython",
    "version": 3
   },
   "file_extension": ".py",
   "mimetype": "text/x-python",
   "name": "python",
   "nbconvert_exporter": "python",
   "pygments_lexer": "ipython3",
   "version": "3.7.3"
  }
 },
 "nbformat": 4,
 "nbformat_minor": 1
}
